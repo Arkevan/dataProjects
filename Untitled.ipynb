{
 "cells": [
  {
   "cell_type": "markdown",
   "id": "2ec352e1-f916-4b8d-988a-441aaea2f831",
   "metadata": {},
   "source": [
    "Hacker News Project"
   ]
  },
  {
   "cell_type": "code",
   "execution_count": 2,
   "id": "6f872c10-1ec3-4449-be36-0de7af3f68e6",
   "metadata": {},
   "outputs": [
    {
     "name": "stdout",
     "output_type": "stream",
     "text": [
      "['id', 'title', 'url', 'num_points', 'num_comments', 'author', 'created_at']\n"
     ]
    }
   ],
   "source": [
    "import csv\n",
    "with open(\"hacker_news.csv\", 'r') as file:\n",
    "    csv_reader = csv.reader(file)\n",
    "    hn = list(csv_reader)\n",
    "#print(hn[:5])\n",
    "print(hn[0])"
   ]
  },
  {
   "cell_type": "markdown",
   "id": "1ea86d4a-6c83-4484-a5ab-ef6edc359891",
   "metadata": {},
   "source": [
    "Headers"
   ]
  },
  {
   "cell_type": "code",
   "execution_count": 3,
   "id": "666bf9f1-5472-48d2-86ea-dbcae0116d58",
   "metadata": {},
   "outputs": [],
   "source": [
    "headers = hn[0]"
   ]
  },
  {
   "cell_type": "code",
   "execution_count": null,
   "id": "e5f3875c-6c2d-4629-bba5-99fcf7bbc5ba",
   "metadata": {},
   "outputs": [],
   "source": [
    "hn = hn[1:]\n",
    "print(headers)\n",
    "print(hn[:5])"
   ]
  },
  {
   "cell_type": "markdown",
   "id": "25aba840-739f-43cc-a0a9-8ad11780a129",
   "metadata": {},
   "source": [
    "Extracting Posts\n",
    "notes:\n",
    "\n",
    "1. It is much more efficient to store temporary values in variables rather than doing direct comparisons. I made a row_small variable below instead of doing if row.lower().startswith()...\n",
    "2. "
   ]
  },
  {
   "cell_type": "code",
   "execution_count": 23,
   "id": "d6bc3568-e0a3-409c-b27e-64badc3c2d1d",
   "metadata": {},
   "outputs": [
    {
     "name": "stdout",
     "output_type": "stream",
     "text": [
      "0.028940700000021025\n",
      "1162\n",
      "1744\n",
      "17194\n"
     ]
    }
   ],
   "source": [
    "import time\n",
    "ask_posts = []\n",
    "show_posts = []\n",
    "other_posts = []\n",
    "\n",
    "start = time.perf_counter()\n",
    "\n",
    "def post_extractor(post_list):\n",
    "    for row in post_list:\n",
    "        title = row[1]\n",
    "        title_small = title.lower()\n",
    "        if title_small.startswith(\"ask hn\"):\n",
    "            ask_posts.append(row)\n",
    "        elif title_small.startswith(\"show hn\"):\n",
    "            show_posts.append(row)\n",
    "        else:\n",
    "            other_posts.append(row)\n",
    "post_extractor(hn)\n",
    "\n",
    "end = time.perf_counter()\n",
    "delta = end - start\n",
    "print(delta)\n",
    "\n",
    "print(len(show_posts))\n",
    "print(len(ask_posts))\n",
    "print(len(other_posts))"
   ]
  },
  {
   "cell_type": "markdown",
   "id": "70886a22-8627-40fe-84d8-583ddb857a89",
   "metadata": {},
   "source": [
    "The code below uses direct comparison and takes 45% longer to execute"
   ]
  },
  {
   "cell_type": "code",
   "execution_count": 13,
   "id": "c8e4c06b-6a7a-42c6-bb12-5aef0eefef76",
   "metadata": {},
   "outputs": [
    {
     "name": "stdout",
     "output_type": "stream",
     "text": [
      "0.032843199998751516\n"
     ]
    }
   ],
   "source": [
    "import time\n",
    "\n",
    "a = list()\n",
    "b = list()\n",
    "c = list()\n",
    "\n",
    "start = time.perf_counter()\n",
    "\n",
    "def post_extractor(post_list):\n",
    "    for row in post_list:\n",
    "        title = row[1]\n",
    "        if title.lower().startswith(\"ask hn\"):\n",
    "            ask_posts.append(row)\n",
    "        elif title.lower().startswith(\"show hn\"):\n",
    "            show_posts.append(row)\n",
    "        else:\n",
    "            other_posts.append(row)\n",
    "post_extractor(hn)\n",
    "\n",
    "end = time.perf_counter()\n",
    "delta = end - start\n",
    "\n",
    "print(delta)"
   ]
  },
  {
   "cell_type": "markdown",
   "id": "ada02508-b9e1-4dd0-93eb-a92e4aed89ae",
   "metadata": {},
   "source": [
    "Average number of posts\n",
    "The average number of posts that for a randomly selected post, depending on category"
   ]
  },
  {
   "cell_type": "code",
   "execution_count": 31,
   "id": "36497d4d-bf75-4187-bbc2-9285d2b84206",
   "metadata": {},
   "outputs": [
    {
     "name": "stdout",
     "output_type": "stream",
     "text": [
      "14.038417431192661\n",
      "10.31669535283993\n",
      "26.8730371059672\n"
     ]
    }
   ],
   "source": [
    "def avg_comments(posts):\n",
    "    temp_count = 0\n",
    "    for row in posts:\n",
    "        no = row[4]\n",
    "        no = int(no)\n",
    "        temp_count += no\n",
    "    final = temp_count / len(posts)\n",
    "    return final\n",
    "       \n",
    "\n",
    "ask_comments = avg_comments(ask_posts)\n",
    "show_comments = avg_comments(show_posts)\n",
    "other_comments = avg_comments(other_posts)\n",
    "\n",
    "print(ask_comments)\n",
    "print(show_comments)\n",
    "print(other_comments)"
   ]
  }
 ],
 "metadata": {
  "kernelspec": {
   "display_name": "Python 3 (ipykernel)",
   "language": "python",
   "name": "python3"
  },
  "language_info": {
   "codemirror_mode": {
    "name": "ipython",
    "version": 3
   },
   "file_extension": ".py",
   "mimetype": "text/x-python",
   "name": "python",
   "nbconvert_exporter": "python",
   "pygments_lexer": "ipython3",
   "version": "3.10.4"
  }
 },
 "nbformat": 4,
 "nbformat_minor": 5
}

{
 "cells": [
  {
   "cell_type": "markdown",
   "id": "2ec352e1-f916-4b8d-988a-441aaea2f831",
   "metadata": {},
   "source": [
    "Intro file for this git"
   ]
  },
  {
   "cell_type": "code",
   "execution_count": 1,
   "id": "6f872c10-1ec3-4449-be36-0de7af3f68e6",
   "metadata": {},
   "outputs": [
    {
     "name": "stdout",
     "output_type": "stream",
     "text": [
      "boris johnson\n"
     ]
    }
   ],
   "source": [
    "print(\"boris johnson\")"
   ]
  }
 ],
 "metadata": {
  "kernelspec": {
   "display_name": "Python 3 (ipykernel)",
   "language": "python",
   "name": "python3"
  },
  "language_info": {
   "codemirror_mode": {
    "name": "ipython",
    "version": 3
   },
   "file_extension": ".py",
   "mimetype": "text/x-python",
   "name": "python",
   "nbconvert_exporter": "python",
   "pygments_lexer": "ipython3",
   "version": "3.10.4"
  }
 },
 "nbformat": 4,
 "nbformat_minor": 5
}

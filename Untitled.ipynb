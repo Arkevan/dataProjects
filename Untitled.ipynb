{
 "cells": [
  {
   "cell_type": "markdown",
   "id": "2ec352e1-f916-4b8d-988a-441aaea2f831",
   "metadata": {},
   "source": [
    "Intro file for this git"
   ]
  }
 ],
 "metadata": {
  "kernelspec": {
   "display_name": "Python 3 (ipykernel)",
   "language": "python",
   "name": "python3"
  },
  "language_info": {
   "codemirror_mode": {
    "name": "ipython",
    "version": 3
   },
   "file_extension": ".py",
   "mimetype": "text/x-python",
   "name": "python",
   "nbconvert_exporter": "python",
   "pygments_lexer": "ipython3",
   "version": "3.10.4"
  }
 },
 "nbformat": 4,
 "nbformat_minor": 5
}
